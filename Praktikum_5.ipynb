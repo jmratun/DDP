{
  "nbformat": 4,
  "nbformat_minor": 0,
  "metadata": {
    "colab": {
      "provenance": [],
      "authorship_tag": "ABX9TyNVOTt/5k+wlTQkyD/OJEA3",
      "include_colab_link": true
    },
    "kernelspec": {
      "name": "python3",
      "display_name": "Python 3"
    },
    "language_info": {
      "name": "python"
    }
  },
  "cells": [
    {
      "cell_type": "markdown",
      "metadata": {
        "id": "view-in-github",
        "colab_type": "text"
      },
      "source": [
        "<a href=\"https://colab.research.google.com/github/jmratun/DDP/blob/main/Praktikum_5.ipynb\" target=\"_parent\"><img src=\"https://colab.research.google.com/assets/colab-badge.svg\" alt=\"Open In Colab\"/></a>"
      ]
    },
    {
      "cell_type": "code",
      "source": [
        "\n",
        "# Membuat list dengan value (nama kendaraan, jenis kendaraan, ccKendaraan, rodaKendaraan)\n",
        "kendaraan = [\"Motor\", \"Roda Dua\", 150, 2]\n",
        "\n",
        "# Menambahkan setelah 'jenis kendaraan' dengan value 'merek kendaraan'\n",
        "kendaraan.insert(2, \"Yamaha\")  # Posisi 2 karena index dimulai dari 0\n",
        "\n",
        "# Menambahkan value hargaKendaraan dan tipeKendaraan di akhir list\n",
        "kendaraan.append(25000000)  # hargaKendaraan\n",
        "kendaraan.append(\"Sport\")   # tipeKendaraan\n",
        "\n",
        "# Menampilkan hasil akhir list\n",
        "print(kendaraan)"
      ],
      "metadata": {
        "colab": {
          "base_uri": "https://localhost:8080/"
        },
        "id": "ON0QUamsfy_4",
        "outputId": "5a43b90a-0b87-40a9-d92c-c4ef4d332757"
      },
      "execution_count": 3,
      "outputs": [
        {
          "output_type": "stream",
          "name": "stdout",
          "text": [
            "['Motor', 'Roda Dua', 'Yamaha', 150, 2, 25000000, 'Sport']\n"
          ]
        }
      ]
    },
    {
      "cell_type": "code",
      "source": [
        "\n",
        "# Program menghitung luas bangun datar menggunakan match case\n",
        "\n",
        "import math   # Modul math digunakan untuk nilai π (pi)\n",
        "\n",
        "print(\"===== Program Menghitung Luas Bangun Datar =====\")\n",
        "print(\"1. Persegi\")\n",
        "print(\"2. Lingkaran\")\n",
        "print(\"3. Segitiga\")\n",
        "\n",
        "# Meminta input dari pengguna\n",
        "pilihan = int(input(\"Masukkan pilihan (1-3): \"))\n",
        "\n",
        "# Menggunakan match case untuk menentukan jenis bangun datar\n",
        "match pilihan:\n",
        "    case 1:\n",
        "        print(\"\\n--- Menghitung Luas Persegi ---\")\n",
        "        sisi = float(input(\"Masukkan panjang sisi persegi: \"))\n",
        "        luas = sisi * sisi\n",
        "        print(f\"Luas persegi dengan sisi {sisi} adalah {luas}\")\n",
        "\n",
        "    case 2:\n",
        "        print(\"\\n--- Menghitung Luas Lingkaran ---\")\n",
        "        jari_jari = float(input(\"Masukkan jari-jari lingkaran: \"))\n",
        "        luas = math.pi * jari_jari ** 2\n",
        "        print(f\"Luas lingkaran dengan jari-jari {jari_jari} adalah {luas:.2f}\")\n",
        "\n",
        "    case 3:\n",
        "        print(\"\\n--- Menghitung Luas Segitiga ---\")\n",
        "        alas = float(input(\"Masukkan panjang alas segitiga: \"))\n",
        "        tinggi = float(input(\"Masukkan tinggi segitiga: \"))\n",
        "        luas = 0.5 * alas * tinggi\n",
        "        print(f\"Luas segitiga dengan alas {alas} dan tinggi {tinggi} adalah {luas}\")\n",
        "\n",
        "    case _:\n",
        "        print(\"\\nPilihan tidak tersedia! Silakan jalankan ulang program dan pilih 1, 2, atau 3.\")"
      ],
      "metadata": {
        "colab": {
          "base_uri": "https://localhost:8080/"
        },
        "id": "Agw_s29Tf99B",
        "outputId": "ac93a482-5171-4753-e27a-6ea5a8867f48"
      },
      "execution_count": 4,
      "outputs": [
        {
          "output_type": "stream",
          "name": "stdout",
          "text": [
            "===== Program Menghitung Luas Bangun Datar =====\n",
            "1. Persegi\n",
            "2. Lingkaran\n",
            "3. Segitiga\n",
            "Masukkan pilihan (1-3): 1\n",
            "\n",
            "--- Menghitung Luas Persegi ---\n",
            "Masukkan panjang sisi persegi: 3\n",
            "Luas persegi dengan sisi 3.0 adalah 9.0\n"
          ]
        }
      ]
    }
  ]
}